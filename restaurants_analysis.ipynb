{
 "cells": [
  {
   "cell_type": "markdown",
   "metadata": {},
   "source": [
    "# Exploratory analysis on the Paris food scene\n",
    "\n",
    "This project is a statistical analysis on restaurants in Paris, France, using YELP API data. I used the YELP API to scrape summary (40.000m within the google search, \"Paris, France\") and collected data for 12000 restaurants."
   ]
  },
  {
   "cell_type": "markdown",
   "metadata": {},
   "source": [
    "# Import Libs & Data Pre-processing\n",
    "Here, we import the needed libraries for the project to work, we read in the data and convert it to dataframe, and finaly we do some data preprocessing operations on our restaurants data."
   ]
  },
  {
   "cell_type": "code",
   "execution_count": 2,
   "metadata": {},
   "outputs": [],
   "source": [
    "# import libs\n",
    "import numpy as np\n",
    "import pandas as pd\n",
    "import matplotlib.pyplot as plt\n",
    "import seaborn as sns\n",
    "import json\n",
    "import warnings\n",
    "from yelphelpers import *\n",
    "warnings.filterwarnings('ignore')\n",
    "\n",
    "# read data\n",
    "with open('paris_restaurants.json') as f:\n",
    "    data = json.load(f)\n",
    "    \n",
    "with open('yelp_categories.json') as f:\n",
    "    cats = json.load(f)\n",
    "    \n",
    "# convert to pandas dataframe\n",
    "df = pd.DataFrame.from_dict(data, orient='columns')"
   ]
  },
  {
   "cell_type": "code",
   "execution_count": 2,
   "metadata": {},
   "outputs": [
    {
     "name": "stdout",
     "output_type": "stream",
     "text": [
      "Dataframe shape :  (12144, 16)\n",
      "Missing data:\n",
      " id                  0\n",
      "alias               0\n",
      "name                0\n",
      "image_url           0\n",
      "is_closed           0\n",
      "url                 0\n",
      "review_count        0\n",
      "categories          0\n",
      "rating              0\n",
      "coordinates         0\n",
      "transactions        0\n",
      "price            4546\n",
      "location            0\n",
      "phone               0\n",
      "display_phone       0\n",
      "distance            0\n",
      "dtype: int64\n"
     ]
    }
   ],
   "source": [
    "print('Dataframe shape : ',df.shape)\n",
    "print('Missing data:\\n',df.isnull().sum())"
   ]
  },
  {
   "cell_type": "markdown",
   "metadata": {},
   "source": [
    "<a id=\"clean-the-data\"></a>\n",
    "## Cleaning the data\n",
    "\n",
    "* Removing unnecessary data\n",
    "* One-hot encode categories list\n",
    "* Convert string data into numberic data (rating, price)\n",
    "* Add neighbourhood name based on zip code (see [Geographic Data](#geography))"
   ]
  },
  {
   "cell_type": "code",
   "execution_count": 3,
   "metadata": {},
   "outputs": [],
   "source": [
    "#  Removing unnecessary data\n",
    "df = df.drop(columns=['image_url','is_closed','transactions','phone','display_phone'])\n",
    "\n",
    "# Removing rows with NAN values\n",
    "df = df.dropna()\n",
    "\n",
    "# Replace number signs (€) with numerical values\n",
    "df.replace(['€','€€','€€€','€€€€'],[1.0,2.0,3.0,4.0], inplace=True)"
   ]
  },
  {
   "cell_type": "code",
   "execution_count": 4,
   "metadata": {},
   "outputs": [
    {
     "data": {
      "text/plain": [
       "{1.0, 2.0, 3.0, 4.0}"
      ]
     },
     "execution_count": 4,
     "metadata": {},
     "output_type": "execute_result"
    }
   ],
   "source": [
    "set(df['price'])"
   ]
  },
  {
   "cell_type": "code",
   "execution_count": 5,
   "metadata": {},
   "outputs": [
    {
     "data": {
      "text/html": [
       "<div>\n",
       "<style scoped>\n",
       "    .dataframe tbody tr th:only-of-type {\n",
       "        vertical-align: middle;\n",
       "    }\n",
       "\n",
       "    .dataframe tbody tr th {\n",
       "        vertical-align: top;\n",
       "    }\n",
       "\n",
       "    .dataframe thead th {\n",
       "        text-align: right;\n",
       "    }\n",
       "</style>\n",
       "<table border=\"1\" class=\"dataframe\">\n",
       "  <thead>\n",
       "    <tr style=\"text-align: right;\">\n",
       "      <th></th>\n",
       "      <th>id</th>\n",
       "      <th>categories</th>\n",
       "    </tr>\n",
       "  </thead>\n",
       "  <tbody>\n",
       "    <tr>\n",
       "      <th>0</th>\n",
       "      <td>CTwrAZ_lYy0lDg8kJrOwCQ</td>\n",
       "      <td>[{'alias': 'afghani', 'title': 'Afghan'}]</td>\n",
       "    </tr>\n",
       "    <tr>\n",
       "      <th>1</th>\n",
       "      <td>cTE0bsuIPGVbJ2Zph-69NA</td>\n",
       "      <td>[{'alias': 'afghani', 'title': 'Afghan'}]</td>\n",
       "    </tr>\n",
       "    <tr>\n",
       "      <th>2</th>\n",
       "      <td>X7ysaj_dQ1HyxzvXqMlYLw</td>\n",
       "      <td>[{'alias': 'afghani', 'title': 'Afghan'}]</td>\n",
       "    </tr>\n",
       "    <tr>\n",
       "      <th>4</th>\n",
       "      <td>2PDiGngVcBR_K3Yn4z2uZQ</td>\n",
       "      <td>[{'alias': 'afghani', 'title': 'Afghan'}]</td>\n",
       "    </tr>\n",
       "    <tr>\n",
       "      <th>6</th>\n",
       "      <td>b9YiHgy-26FQK0BO5Eem4Q</td>\n",
       "      <td>[{'alias': 'african', 'title': 'African'}]</td>\n",
       "    </tr>\n",
       "  </tbody>\n",
       "</table>\n",
       "</div>"
      ],
      "text/plain": [
       "                       id                                  categories\n",
       "0  CTwrAZ_lYy0lDg8kJrOwCQ   [{'alias': 'afghani', 'title': 'Afghan'}]\n",
       "1  cTE0bsuIPGVbJ2Zph-69NA   [{'alias': 'afghani', 'title': 'Afghan'}]\n",
       "2  X7ysaj_dQ1HyxzvXqMlYLw   [{'alias': 'afghani', 'title': 'Afghan'}]\n",
       "4  2PDiGngVcBR_K3Yn4z2uZQ   [{'alias': 'afghani', 'title': 'Afghan'}]\n",
       "6  b9YiHgy-26FQK0BO5Eem4Q  [{'alias': 'african', 'title': 'African'}]"
      ]
     },
     "execution_count": 5,
     "metadata": {},
     "output_type": "execute_result"
    }
   ],
   "source": [
    "df_categories = df[['id', 'categories']]\n",
    "df_categories.head()"
   ]
  },
  {
   "cell_type": "code",
   "execution_count": 6,
   "metadata": {},
   "outputs": [
    {
     "data": {
      "text/html": [
       "<div>\n",
       "<style scoped>\n",
       "    .dataframe tbody tr th:only-of-type {\n",
       "        vertical-align: middle;\n",
       "    }\n",
       "\n",
       "    .dataframe tbody tr th {\n",
       "        vertical-align: top;\n",
       "    }\n",
       "\n",
       "    .dataframe thead th {\n",
       "        text-align: right;\n",
       "    }\n",
       "</style>\n",
       "<table border=\"1\" class=\"dataframe\">\n",
       "  <thead>\n",
       "    <tr style=\"text-align: right;\">\n",
       "      <th></th>\n",
       "      <th>id</th>\n",
       "      <th>r_alias</th>\n",
       "      <th>name</th>\n",
       "      <th>url</th>\n",
       "      <th>review_count</th>\n",
       "      <th>rating</th>\n",
       "      <th>coordinates</th>\n",
       "      <th>price</th>\n",
       "      <th>location</th>\n",
       "      <th>distance</th>\n",
       "    </tr>\n",
       "  </thead>\n",
       "  <tbody>\n",
       "    <tr>\n",
       "      <th>0</th>\n",
       "      <td>CTwrAZ_lYy0lDg8kJrOwCQ</td>\n",
       "      <td>l-afghanistan-paris</td>\n",
       "      <td>L'Afghanistan</td>\n",
       "      <td>https://www.yelp.com/biz/l-afghanistan-paris?a...</td>\n",
       "      <td>46</td>\n",
       "      <td>4.0</td>\n",
       "      <td>{'latitude': 48.8623, 'longitude': 2.37997}</td>\n",
       "      <td>2.0</td>\n",
       "      <td>{'address1': '48 rue Saint-Maur', 'address2': ...</td>\n",
       "      <td>2767.030967</td>\n",
       "    </tr>\n",
       "    <tr>\n",
       "      <th>1</th>\n",
       "      <td>cTE0bsuIPGVbJ2Zph-69NA</td>\n",
       "      <td>buzkashi-paris-3</td>\n",
       "      <td>Buzkashi</td>\n",
       "      <td>https://www.yelp.com/biz/buzkashi-paris-3?adju...</td>\n",
       "      <td>20</td>\n",
       "      <td>4.5</td>\n",
       "      <td>{'latitude': 48.8853416, 'longitude': 2.3257101}</td>\n",
       "      <td>2.0</td>\n",
       "      <td>{'address1': '7 rue des Dames', 'address2': ''...</td>\n",
       "      <td>2865.039636</td>\n",
       "    </tr>\n",
       "    <tr>\n",
       "      <th>2</th>\n",
       "      <td>X7ysaj_dQ1HyxzvXqMlYLw</td>\n",
       "      <td>afghani-paris-2</td>\n",
       "      <td>Afghani</td>\n",
       "      <td>https://www.yelp.com/biz/afghani-paris-2?adjus...</td>\n",
       "      <td>45</td>\n",
       "      <td>4.0</td>\n",
       "      <td>{'latitude': 48.8869825, 'longitude': 2.3452314}</td>\n",
       "      <td>2.0</td>\n",
       "      <td>{'address1': '16 rue Paul Albert', 'address2':...</td>\n",
       "      <td>2791.650495</td>\n",
       "    </tr>\n",
       "    <tr>\n",
       "      <th>4</th>\n",
       "      <td>2PDiGngVcBR_K3Yn4z2uZQ</td>\n",
       "      <td>kootchi-paris-2</td>\n",
       "      <td>Kootchi</td>\n",
       "      <td>https://www.yelp.com/biz/kootchi-paris-2?adjus...</td>\n",
       "      <td>14</td>\n",
       "      <td>3.0</td>\n",
       "      <td>{'latitude': 48.84677, 'longitude': 2.35191}</td>\n",
       "      <td>1.0</td>\n",
       "      <td>{'address1': '40 rue du Cardinal Lemoine', 'ad...</td>\n",
       "      <td>1833.710354</td>\n",
       "    </tr>\n",
       "    <tr>\n",
       "      <th>6</th>\n",
       "      <td>b9YiHgy-26FQK0BO5Eem4Q</td>\n",
       "      <td>waly-fay-paris-2</td>\n",
       "      <td>Waly-Fay</td>\n",
       "      <td>https://www.yelp.com/biz/waly-fay-paris-2?adju...</td>\n",
       "      <td>83</td>\n",
       "      <td>4.0</td>\n",
       "      <td>{'latitude': 48.854577902096, 'longitude': 2.3...</td>\n",
       "      <td>3.0</td>\n",
       "      <td>{'address1': '6 rue Godefroy Cavaignac', 'addr...</td>\n",
       "      <td>3005.080351</td>\n",
       "    </tr>\n",
       "  </tbody>\n",
       "</table>\n",
       "</div>"
      ],
      "text/plain": [
       "                       id              r_alias           name  \\\n",
       "0  CTwrAZ_lYy0lDg8kJrOwCQ  l-afghanistan-paris  L'Afghanistan   \n",
       "1  cTE0bsuIPGVbJ2Zph-69NA     buzkashi-paris-3       Buzkashi   \n",
       "2  X7ysaj_dQ1HyxzvXqMlYLw      afghani-paris-2        Afghani   \n",
       "4  2PDiGngVcBR_K3Yn4z2uZQ      kootchi-paris-2        Kootchi   \n",
       "6  b9YiHgy-26FQK0BO5Eem4Q     waly-fay-paris-2       Waly-Fay   \n",
       "\n",
       "                                                 url  review_count  rating  \\\n",
       "0  https://www.yelp.com/biz/l-afghanistan-paris?a...            46     4.0   \n",
       "1  https://www.yelp.com/biz/buzkashi-paris-3?adju...            20     4.5   \n",
       "2  https://www.yelp.com/biz/afghani-paris-2?adjus...            45     4.0   \n",
       "4  https://www.yelp.com/biz/kootchi-paris-2?adjus...            14     3.0   \n",
       "6  https://www.yelp.com/biz/waly-fay-paris-2?adju...            83     4.0   \n",
       "\n",
       "                                         coordinates  price  \\\n",
       "0        {'latitude': 48.8623, 'longitude': 2.37997}    2.0   \n",
       "1   {'latitude': 48.8853416, 'longitude': 2.3257101}    2.0   \n",
       "2   {'latitude': 48.8869825, 'longitude': 2.3452314}    2.0   \n",
       "4       {'latitude': 48.84677, 'longitude': 2.35191}    1.0   \n",
       "6  {'latitude': 48.854577902096, 'longitude': 2.3...    3.0   \n",
       "\n",
       "                                            location     distance  \n",
       "0  {'address1': '48 rue Saint-Maur', 'address2': ...  2767.030967  \n",
       "1  {'address1': '7 rue des Dames', 'address2': ''...  2865.039636  \n",
       "2  {'address1': '16 rue Paul Albert', 'address2':...  2791.650495  \n",
       "4  {'address1': '40 rue du Cardinal Lemoine', 'ad...  1833.710354  \n",
       "6  {'address1': '6 rue Godefroy Cavaignac', 'addr...  3005.080351  "
      ]
     },
     "execution_count": 6,
     "metadata": {},
     "output_type": "execute_result"
    }
   ],
   "source": [
    "df.drop(columns=['categories'],inplace=True)\n",
    "df.rename(columns={'alias':'r_alias'},inplace=True)\n",
    "df.head()"
   ]
  },
  {
   "cell_type": "code",
   "execution_count": 7,
   "metadata": {},
   "outputs": [],
   "source": [
    "df_expanded = df.copy().merge(expand_list(df_categories.copy(), 'categories'))"
   ]
  },
  {
   "cell_type": "code",
   "execution_count": 8,
   "metadata": {},
   "outputs": [],
   "source": [
    "df_categories = expand_list(df_categories,'categories')\n",
    "df_categories = pd.concat([df_categories.drop(['categories'], axis=1), df_categories['categories'].apply(pd.Series)], axis=1)\n",
    "df_categories = df_categories.groupby(['id']).agg(lambda x: tuple(x)).applymap(list).reset_index()"
   ]
  },
  {
   "cell_type": "code",
   "execution_count": 9,
   "metadata": {},
   "outputs": [
    {
     "data": {
      "text/html": [
       "<div>\n",
       "<style scoped>\n",
       "    .dataframe tbody tr th:only-of-type {\n",
       "        vertical-align: middle;\n",
       "    }\n",
       "\n",
       "    .dataframe tbody tr th {\n",
       "        vertical-align: top;\n",
       "    }\n",
       "\n",
       "    .dataframe thead th {\n",
       "        text-align: right;\n",
       "    }\n",
       "</style>\n",
       "<table border=\"1\" class=\"dataframe\">\n",
       "  <thead>\n",
       "    <tr style=\"text-align: right;\">\n",
       "      <th></th>\n",
       "      <th>id</th>\n",
       "      <th>alias</th>\n",
       "      <th>title</th>\n",
       "    </tr>\n",
       "  </thead>\n",
       "  <tbody>\n",
       "    <tr>\n",
       "      <th>0</th>\n",
       "      <td>--BNn35zxreUWlLyWajgYw</td>\n",
       "      <td>[mexican]</td>\n",
       "      <td>[Mexican]</td>\n",
       "    </tr>\n",
       "    <tr>\n",
       "      <th>1</th>\n",
       "      <td>-0iLH7iQNYtoURciDpJf6w</td>\n",
       "      <td>[french]</td>\n",
       "      <td>[French]</td>\n",
       "    </tr>\n",
       "    <tr>\n",
       "      <th>2</th>\n",
       "      <td>-1HO8IOTteQsB7WTK6-BDg</td>\n",
       "      <td>[spanish]</td>\n",
       "      <td>[Spanish]</td>\n",
       "    </tr>\n",
       "    <tr>\n",
       "      <th>3</th>\n",
       "      <td>-1J4aCaiQanS_nXZT-S6aw</td>\n",
       "      <td>[lebanese, moroccan]</td>\n",
       "      <td>[Lebanese, Moroccan]</td>\n",
       "    </tr>\n",
       "    <tr>\n",
       "      <th>4</th>\n",
       "      <td>-1fF73WT42NNikWHNpkvfg</td>\n",
       "      <td>[modern_european]</td>\n",
       "      <td>[Modern European]</td>\n",
       "    </tr>\n",
       "  </tbody>\n",
       "</table>\n",
       "</div>"
      ],
      "text/plain": [
       "                       id                 alias                 title\n",
       "0  --BNn35zxreUWlLyWajgYw             [mexican]             [Mexican]\n",
       "1  -0iLH7iQNYtoURciDpJf6w              [french]              [French]\n",
       "2  -1HO8IOTteQsB7WTK6-BDg             [spanish]             [Spanish]\n",
       "3  -1J4aCaiQanS_nXZT-S6aw  [lebanese, moroccan]  [Lebanese, Moroccan]\n",
       "4  -1fF73WT42NNikWHNpkvfg     [modern_european]     [Modern European]"
      ]
     },
     "execution_count": 9,
     "metadata": {},
     "output_type": "execute_result"
    }
   ],
   "source": [
    "df_categories.head()"
   ]
  },
  {
   "cell_type": "code",
   "execution_count": 10,
   "metadata": {},
   "outputs": [
    {
     "data": {
      "text/html": [
       "<div>\n",
       "<style scoped>\n",
       "    .dataframe tbody tr th:only-of-type {\n",
       "        vertical-align: middle;\n",
       "    }\n",
       "\n",
       "    .dataframe tbody tr th {\n",
       "        vertical-align: top;\n",
       "    }\n",
       "\n",
       "    .dataframe thead th {\n",
       "        text-align: right;\n",
       "    }\n",
       "</style>\n",
       "<table border=\"1\" class=\"dataframe\">\n",
       "  <thead>\n",
       "    <tr style=\"text-align: right;\">\n",
       "      <th></th>\n",
       "      <th>id</th>\n",
       "      <th>r_alias</th>\n",
       "      <th>name</th>\n",
       "      <th>url</th>\n",
       "      <th>review_count</th>\n",
       "      <th>rating</th>\n",
       "      <th>coordinates</th>\n",
       "      <th>price</th>\n",
       "      <th>location</th>\n",
       "      <th>distance</th>\n",
       "    </tr>\n",
       "  </thead>\n",
       "  <tbody>\n",
       "    <tr>\n",
       "      <th>0</th>\n",
       "      <td>CTwrAZ_lYy0lDg8kJrOwCQ</td>\n",
       "      <td>l-afghanistan-paris</td>\n",
       "      <td>L'Afghanistan</td>\n",
       "      <td>https://www.yelp.com/biz/l-afghanistan-paris?a...</td>\n",
       "      <td>46</td>\n",
       "      <td>4.0</td>\n",
       "      <td>{'latitude': 48.8623, 'longitude': 2.37997}</td>\n",
       "      <td>2.0</td>\n",
       "      <td>{'address1': '48 rue Saint-Maur', 'address2': ...</td>\n",
       "      <td>2767.030967</td>\n",
       "    </tr>\n",
       "    <tr>\n",
       "      <th>1</th>\n",
       "      <td>cTE0bsuIPGVbJ2Zph-69NA</td>\n",
       "      <td>buzkashi-paris-3</td>\n",
       "      <td>Buzkashi</td>\n",
       "      <td>https://www.yelp.com/biz/buzkashi-paris-3?adju...</td>\n",
       "      <td>20</td>\n",
       "      <td>4.5</td>\n",
       "      <td>{'latitude': 48.8853416, 'longitude': 2.3257101}</td>\n",
       "      <td>2.0</td>\n",
       "      <td>{'address1': '7 rue des Dames', 'address2': ''...</td>\n",
       "      <td>2865.039636</td>\n",
       "    </tr>\n",
       "    <tr>\n",
       "      <th>2</th>\n",
       "      <td>X7ysaj_dQ1HyxzvXqMlYLw</td>\n",
       "      <td>afghani-paris-2</td>\n",
       "      <td>Afghani</td>\n",
       "      <td>https://www.yelp.com/biz/afghani-paris-2?adjus...</td>\n",
       "      <td>45</td>\n",
       "      <td>4.0</td>\n",
       "      <td>{'latitude': 48.8869825, 'longitude': 2.3452314}</td>\n",
       "      <td>2.0</td>\n",
       "      <td>{'address1': '16 rue Paul Albert', 'address2':...</td>\n",
       "      <td>2791.650495</td>\n",
       "    </tr>\n",
       "    <tr>\n",
       "      <th>4</th>\n",
       "      <td>2PDiGngVcBR_K3Yn4z2uZQ</td>\n",
       "      <td>kootchi-paris-2</td>\n",
       "      <td>Kootchi</td>\n",
       "      <td>https://www.yelp.com/biz/kootchi-paris-2?adjus...</td>\n",
       "      <td>14</td>\n",
       "      <td>3.0</td>\n",
       "      <td>{'latitude': 48.84677, 'longitude': 2.35191}</td>\n",
       "      <td>1.0</td>\n",
       "      <td>{'address1': '40 rue du Cardinal Lemoine', 'ad...</td>\n",
       "      <td>1833.710354</td>\n",
       "    </tr>\n",
       "    <tr>\n",
       "      <th>6</th>\n",
       "      <td>b9YiHgy-26FQK0BO5Eem4Q</td>\n",
       "      <td>waly-fay-paris-2</td>\n",
       "      <td>Waly-Fay</td>\n",
       "      <td>https://www.yelp.com/biz/waly-fay-paris-2?adju...</td>\n",
       "      <td>83</td>\n",
       "      <td>4.0</td>\n",
       "      <td>{'latitude': 48.854577902096, 'longitude': 2.3...</td>\n",
       "      <td>3.0</td>\n",
       "      <td>{'address1': '6 rue Godefroy Cavaignac', 'addr...</td>\n",
       "      <td>3005.080351</td>\n",
       "    </tr>\n",
       "  </tbody>\n",
       "</table>\n",
       "</div>"
      ],
      "text/plain": [
       "                       id              r_alias           name  \\\n",
       "0  CTwrAZ_lYy0lDg8kJrOwCQ  l-afghanistan-paris  L'Afghanistan   \n",
       "1  cTE0bsuIPGVbJ2Zph-69NA     buzkashi-paris-3       Buzkashi   \n",
       "2  X7ysaj_dQ1HyxzvXqMlYLw      afghani-paris-2        Afghani   \n",
       "4  2PDiGngVcBR_K3Yn4z2uZQ      kootchi-paris-2        Kootchi   \n",
       "6  b9YiHgy-26FQK0BO5Eem4Q     waly-fay-paris-2       Waly-Fay   \n",
       "\n",
       "                                                 url  review_count  rating  \\\n",
       "0  https://www.yelp.com/biz/l-afghanistan-paris?a...            46     4.0   \n",
       "1  https://www.yelp.com/biz/buzkashi-paris-3?adju...            20     4.5   \n",
       "2  https://www.yelp.com/biz/afghani-paris-2?adjus...            45     4.0   \n",
       "4  https://www.yelp.com/biz/kootchi-paris-2?adjus...            14     3.0   \n",
       "6  https://www.yelp.com/biz/waly-fay-paris-2?adju...            83     4.0   \n",
       "\n",
       "                                         coordinates  price  \\\n",
       "0        {'latitude': 48.8623, 'longitude': 2.37997}    2.0   \n",
       "1   {'latitude': 48.8853416, 'longitude': 2.3257101}    2.0   \n",
       "2   {'latitude': 48.8869825, 'longitude': 2.3452314}    2.0   \n",
       "4       {'latitude': 48.84677, 'longitude': 2.35191}    1.0   \n",
       "6  {'latitude': 48.854577902096, 'longitude': 2.3...    3.0   \n",
       "\n",
       "                                            location     distance  \n",
       "0  {'address1': '48 rue Saint-Maur', 'address2': ...  2767.030967  \n",
       "1  {'address1': '7 rue des Dames', 'address2': ''...  2865.039636  \n",
       "2  {'address1': '16 rue Paul Albert', 'address2':...  2791.650495  \n",
       "4  {'address1': '40 rue du Cardinal Lemoine', 'ad...  1833.710354  \n",
       "6  {'address1': '6 rue Godefroy Cavaignac', 'addr...  3005.080351  "
      ]
     },
     "execution_count": 10,
     "metadata": {},
     "output_type": "execute_result"
    }
   ],
   "source": [
    "df.head()"
   ]
  },
  {
   "cell_type": "code",
   "execution_count": 11,
   "metadata": {},
   "outputs": [],
   "source": [
    "df = df.merge(df_categories, on='id')\n",
    "df = df.drop('alias', 1).join(df.alias.str.join('|').str.get_dummies())"
   ]
  },
  {
   "cell_type": "code",
   "execution_count": 12,
   "metadata": {},
   "outputs": [],
   "source": [
    "df.head()\n",
    "# To find categorical data, we need to split restaurants with multiple categories into separate entries.\n",
    "df_expanded = pd.concat([df_expanded.drop(['categories'], axis=1), df_expanded['categories'].apply(pd.Series)], axis=1)\n",
    "\n",
    "# Clean up some variables to leave more space\n",
    "df_categories = None"
   ]
  },
  {
   "cell_type": "code",
   "execution_count": 23,
   "metadata": {},
   "outputs": [
    {
     "data": {
      "image/png": "[encoded data removed]",
      "text/plain": [
       "<Figure size 1728x504 with 3 Axes>"
      ]
     },
     "metadata": {
      "needs_background": "light"
     },
     "output_type": "display_data"
    }
   ],
   "source": [
    "fig, axes = plt.subplots(1,3,figsize=(24,7))\n",
    "sns.distplot(df['review_count'], hist=False, color=\"g\", ax=axes[0]).set_title('review_count')\n",
    "sns.countplot(df['rating'],ax=axes[1]).set_title('rating')\n",
    "sns.countplot(df['price'],ax=axes[2]).set_title('price')\n",
    "\n",
    "plt.show()"
   ]
  },
  {
   "cell_type": "code",
   "execution_count": 25,
   "metadata": {},
   "outputs": [],
   "source": [
    "review_count=df['review_count']"
   ]
  },
  {
   "cell_type": "code",
   "execution_count": 41,
   "metadata": {},
   "outputs": [
    {
     "data": {
      "text/plain": [
       "Counter({0: 6589,\n",
       "         50: 659,\n",
       "         100: 170,\n",
       "         400: 8,\n",
       "         200: 41,\n",
       "         250: 23,\n",
       "         300: 16,\n",
       "         500: 2,\n",
       "         350: 6,\n",
       "         150: 75,\n",
       "         1300: 1,\n",
       "         1050: 1,\n",
       "         450: 4,\n",
       "         900: 1,\n",
       "         1800: 1,\n",
       "         600: 1})"
      ]
     },
     "execution_count": 41,
     "metadata": {},
     "output_type": "execute_result"
    }
   ],
   "source": [
    "from collections import Counter \n",
    "hist = Counter(min(h//50*50,2500) for h in review_count)\n",
    "hist\n"
   ]
  },
  {
   "cell_type": "code",
   "execution_count": null,
   "metadata": {},
   "outputs": [],
   "source": [
    "plt.bar(hist.keys(), hist.values(), 100)"
   ]
  },
  {
   "cell_type": "code",
   "execution_count": null,
   "metadata": {},
   "outputs": [],
   "source": []
  }
 ],
 "metadata": {
  "kernelspec": {
   "display_name": "Python 3",
   "language": "python",
   "name": "python3"
  },
  "language_info": {
   "codemirror_mode": {
    "name": "ipython",
    "version": 3
   },
   "file_extension": ".py",
   "mimetype": "text/x-python",
   "name": "python",
   "nbconvert_exporter": "python",
   "pygments_lexer": "ipython3",
   "version": "3.7.6"
  }
 },
 "nbformat": 4,
 "nbformat_minor": 4
}
